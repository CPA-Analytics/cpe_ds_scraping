{
 "cells": [
  {
   "cell_type": "markdown",
   "metadata": {
    "slideshow": {
     "slide_type": "slide"
    }
   },
   "source": [
    "w_03 | BeautifulSoup\n",
    "===="
   ]
  },
  {
   "cell_type": "markdown",
   "metadata": {
    "slideshow": {
     "slide_type": "slide"
    }
   },
   "source": [
    "BeautifulSoup es, junto con Scrapy, el paquete más usado para scrapping web. Su uso básico tiene una lógica muy simple que consiste en proveerle el código fuente de una página (el HTML) para que construya un \"árbol\" con sus elementos en donde podemos buscar lo que necesitamos.\n",
    "\n",
    "Busquemos todas las noticias de la portada de Montevideo Portal, para lo que hay que inspeccionar la fuente.\n",
    "\n",
    "![](https://drive.google.com/uc?export=view&id=1ypYmHKOQX281hqE5aLv0J39s0-oP56A4)"
   ]
  },
  {
   "cell_type": "code",
   "execution_count": 1,
   "metadata": {
    "slideshow": {
     "slide_type": "slide"
    }
   },
   "outputs": [
    {
     "name": "stdout",
     "output_type": "stream",
     "text": [
      "{   'Argentina registra 35.017 nuevos casos de la covid-19 y 587 decesos más': 'https://www.montevideo.com.uy/Noticias/Argentina-registra-35-017-nuevos-casos-de-la-covid-19-y-587-decesos-mas-uc788305',\n",
      "    'Covid en Uruguay: 52 muertes, 555 pacientes en CTI y 3.534 nuevos casos en 23.506 análisis': 'https://www.montevideo.com.uy/Noticias/Covid-en-Uruguay-52-muertes-555-pacientes-en-CTI-y-3-534-nuevos-casos-en-23-506-analisis-uc788318',\n",
      "    'El exintendente de Durazno Benjamín Irazabal será el nuevo subdirector de la OPP': 'https://www.montevideo.com.uy/Noticias/El-exintendente-de-Durazno-Benjamin-Irazabal-sera-el-nuevo-subdirector-de-la-OPP-uc788324',\n",
      "    'La oposición a Netanyahu acordó y anunció la formación de un nuevo gobierno en Israel': 'https://www.montevideo.com.uy/Noticias/La-oposicion-a-Netanyahu-acordo-y-anuncio-la-formacion-de-un-nuevo-gobierno-en-Israel-uc788321',\n",
      "    'Nacieron trillizas en la ciudad de Rocha y están en perfectas condiciones': 'https://www.montevideo.com.uy/Noticias/Nacieron-trillizas-en-la-ciudad-de-Rocha-y-estan-en-perfectas-condiciones-uc788316',\n",
      "    'Opinión | Caros': 'https://www.montevideo.com.uy/Columnistas/Opinion--Caros-uc788244',\n",
      "    'Opinión | Esta semana cerró Perfil': 'https://www.montevideo.com.uy/Columnistas/Opinion--Esta-semana-cerro-Perfil-uc788233',\n",
      "    'Opinión | La verdad que muchos ocultan: esto es Hamas': 'https://www.montevideo.com.uy/Columnistas/Opinion--La-verdad-que-muchos-ocultan-esto-es-Hamas-uc788139',\n",
      "    'Opinión | Uruguay cuenta con un Plan Nacional de Género para sus Políticas Agropecuarias': 'https://www.montevideo.com.uy/Columnistas/Opinion--Uruguay-cuenta-con-un-Plan-Nacional-de-Genero-para-sus-Politicas-Agropecuarias-uc788260',\n",
      "    'Penadés: gobierno \"atendió\" 7 medidas propuestas por el FA; para Andrade es \"frustrante\"': 'https://www.montevideo.com.uy/Noticias/Penades-gobierno-atendio-7-medidas-propuestas-por-el-FA-para-Andrade-es-frustrante--uc788319',\n",
      "    'Trabajadores de Fiscalía rechazaron dichos de Zubía sobre la Unidad Víctimas y Testigos': 'https://www.montevideo.com.uy/Noticias/Trabajadores-de-Fiscalia-rechazaron-dichos-de-Zubia-sobre-la-Unidad-Victimas-y-Testigos-uc788275',\n",
      "    '“Aguante el Diego y la droga”: otro momento incómodo para una notera argentina': 'https://www.montevideo.com.uy/Noticias/-Aguante-el-Diego-y-la-droga--otro-momento-incomodo-para-una-notera-argentina-uc788313'}\n"
     ]
    }
   ],
   "source": [
    "from pprint import pprint\n",
    "\n",
    "import requests\n",
    "import pandas as pd\n",
    "from bs4 import BeautifulSoup\n",
    "\n",
    "url = \"https://www.montevideo.com.uy/categoria/Noticias-310\"\n",
    "r = requests.get(url)\n",
    "soup = BeautifulSoup(r.content)\n",
    "find = soup.find_all(\"h2\", class_=\"title\")\n",
    "results = {el.contents[0].text: el.contents[0].get(\"href\") for el in find}\n",
    "pprint(results, indent=4)"
   ]
  },
  {
   "cell_type": "markdown",
   "metadata": {
    "slideshow": {
     "slide_type": "slide"
    }
   },
   "source": [
    "Hicimos lo siguiente:\n",
    "\n",
    "1. Un request para obtener el HTML.\n",
    "2. Pasamos el contenido de la respuesta a la clase ``BeautifulSoup`` (se llama igual que el paquete, pero se importa de ``bs4``), lo que devuelve un objeto que podemos procesar fácilmente.\n",
    "3. Usamos el método ``find_all()`` para que encuentre todos los elementos con el tag h2 y la class \"title\", porque eso es lo que figura cuando hacemos inspect en un browser.\n",
    "4. El texto y el link están un nivel más abajo del tag h2, por lo que tenemos que acceder a los ``contents`` (es una lista, por eso accedemos al elemento 0, el único que hay en este caso).\n",
    "5. Armamos una dict comprehension que extrae el texto y el link (href) de cada elemento encontrado.\n",
    "\n",
    "¿Por qué no buscamos directamente los tags a (que son links)? Porque necesitamos alguna forma de \"filtrar\" los resultados, y como ese tag no tiene demasiados detalles, recurrimos a su parent h2. Sino, pasa lo siguiente."
   ]
  },
  {
   "cell_type": "code",
   "execution_count": 2,
   "metadata": {
    "slideshow": {
     "slide_type": "fragment"
    }
   },
   "outputs": [
    {
     "data": {
      "text/plain": [
       "[<a class=\"icon notificaciones\" href=\"\" onclick=\"return false;\" target=\"_blank\" title=\"Notificaciones\"></a>,\n",
       " <a class=\"later notificationsReminder\" href=\"#\">Recordar más tarde</a>,\n",
       " <a class=\"icon facebook\" href=\"https://www.facebook.com/portalmvd\" target=\"_blank\" title=\"Facebook\"></a>,\n",
       " <a class=\"icon twitter\" href=\"https://twitter.com/portalmvd\" target=\"_blank\" title=\"Twitter\"></a>,\n",
       " <a class=\"icon instagram\" href=\"https://www.instagram.com/portalmvd/\" target=\"_blank\" title=\"Instagram\"></a>,\n",
       " <a class=\"icon youtube\" href=\"https://www.youtube.com/c/MontevideoPortalVideos\" target=\"_blank\" title=\"Youtube\"></a>,\n",
       " <a class=\"icon spotify\" href=\"https://open.spotify.com/show/7qCGYvcXw1WzqRH5I5UZfh\" target=\"_blank\" title=\"Spotify\"></a>,\n",
       " <a class=\"icon rss\" href=\"https://www.montevideo.com.uy/auc.aspx?27383\" target=\"_blank\" title=\"RSS\"></a>,\n",
       " <a class=\"icon itunes\" href=\"https://itunes.apple.com/app/id400466279\" target=\"_blank\" title=\"iTunes\"></a>,\n",
       " <a class=\"icon android\" href=\"https://play.google.com/store/apps/details?id=com.artech.mvdportalmovil3.MontevideoPortalAndroid&amp;feature=search_result\" target=\"_blank\" title=\"Google Play\"></a>]"
      ]
     },
     "execution_count": 2,
     "metadata": {},
     "output_type": "execute_result"
    }
   ],
   "source": [
    "soup.find_all(\"a\")[:10]"
   ]
  },
  {
   "cell_type": "markdown",
   "metadata": {
    "slideshow": {
     "slide_type": "slide"
    }
   },
   "source": [
    "Con el método ``find_all()`` y un poco de creatividad se puede hacer prácticamente todo.\n",
    "\n",
    "La idea ahora es extraer avisos de puestos de trabajo de El Gallito. En la URL de búsqueda hay información limitada, por lo que habrá que entrar uno por uno, para lo cual necesitamos extraer las URLs.\n",
    "\n",
    "Vamos a concentranos en los resultados de la primera página.\n",
    "\n",
    "El proceso es igual, inspeccionamos el elemento que nos interesa, ubicamos los tags relevantes y extraemos."
   ]
  },
  {
   "cell_type": "code",
   "execution_count": 3,
   "metadata": {
    "slideshow": {
     "slide_type": "fragment"
    }
   },
   "outputs": [
    {
     "data": {
      "text/plain": [
       "['/anuncio/distribuidores-jvug7',\n",
       " '/anuncio/aux-de-marketing-digital-y-diseno-grafico-e545j',\n",
       " '/anuncio/cadete-b7rg3',\n",
       " '/anuncio/chofer-para-taxi-97nq4',\n",
       " '/anuncio/carnicero-cortador-zona-placido-ellauri-49273',\n",
       " '/anuncio/auxiliar-de-ventas-zq3ts',\n",
       " '/anuncio/oficiales-en-aluminio-pnpta',\n",
       " '/anuncio/chofer-6m4m6',\n",
       " '/anuncio/cadete-ura2a',\n",
       " '/anuncio/aprendiz-carpinteria-madera-5h5pg',\n",
       " '/anuncio/gana-dinero-en-donde-estes-3ag43',\n",
       " '/anuncio/chofer-de-camion-con-grua-qhpah',\n",
       " '/anuncio/cajera-administrativa-para-tienda-de-shopping-puqz6',\n",
       " '/anuncio/guardia-de-seguridad-zona-libertad-san-jose-g84hz',\n",
       " '/anuncio/operador-independiente-teletrabajo-llamados-call-mgphj',\n",
       " '/anuncio/vendedoras-es-j6jed',\n",
       " '/anuncio/promo-vendedor-de-calle-zj9zz',\n",
       " '/anuncio/vendedor-telefonico-46vhh']"
      ]
     },
     "execution_count": 3,
     "metadata": {},
     "output_type": "execute_result"
    }
   ],
   "source": [
    "gallito = \"https://trabajo.gallito.com.uy/buscar\"\n",
    "r = requests.get(gallito)\n",
    "soup = BeautifulSoup(r.content)\n",
    "find = soup.find_all(\"a\", class_=\"post-cuadro row smB\")\n",
    "urls = [puesto.get(\"href\") for puesto in find]\n",
    "urls"
   ]
  },
  {
   "cell_type": "markdown",
   "metadata": {
    "slideshow": {
     "slide_type": "slide"
    }
   },
   "source": [
    "La tarea ahora es constuir las URLs, hacer el request y luego el scrapping.\n",
    "\n",
    "La ventaja de HTML es que suele estar todo en el mismo lugar. Entonces con ver la estructura en un puesto podemos saber cómo van a funcionar el resto."
   ]
  },
  {
   "cell_type": "code",
   "execution_count": 4,
   "metadata": {
    "slideshow": {
     "slide_type": "slide"
    }
   },
   "outputs": [
    {
     "name": "stdout",
     "output_type": "stream",
     "text": [
      "Procesando https://trabajo.gallito.com.uy/anuncio/distribuidores-jvug7\n",
      "Procesando https://trabajo.gallito.com.uy/anuncio/aux-de-marketing-digital-y-diseno-grafico-e545j\n",
      "Procesando https://trabajo.gallito.com.uy/anuncio/cadete-b7rg3\n",
      "Procesando https://trabajo.gallito.com.uy/anuncio/chofer-para-taxi-97nq4\n",
      "Procesando https://trabajo.gallito.com.uy/anuncio/carnicero-cortador-zona-placido-ellauri-49273\n",
      "Procesando https://trabajo.gallito.com.uy/anuncio/auxiliar-de-ventas-zq3ts\n",
      "Procesando https://trabajo.gallito.com.uy/anuncio/oficiales-en-aluminio-pnpta\n",
      "Procesando https://trabajo.gallito.com.uy/anuncio/chofer-6m4m6\n",
      "Procesando https://trabajo.gallito.com.uy/anuncio/cadete-ura2a\n",
      "Procesando https://trabajo.gallito.com.uy/anuncio/aprendiz-carpinteria-madera-5h5pg\n",
      "Procesando https://trabajo.gallito.com.uy/anuncio/gana-dinero-en-donde-estes-3ag43\n",
      "Procesando https://trabajo.gallito.com.uy/anuncio/chofer-de-camion-con-grua-qhpah\n",
      "Procesando https://trabajo.gallito.com.uy/anuncio/cajera-administrativa-para-tienda-de-shopping-puqz6\n",
      "Procesando https://trabajo.gallito.com.uy/anuncio/guardia-de-seguridad-zona-libertad-san-jose-g84hz\n",
      "Procesando https://trabajo.gallito.com.uy/anuncio/operador-independiente-teletrabajo-llamados-call-mgphj\n",
      "Procesando https://trabajo.gallito.com.uy/anuncio/vendedoras-es-j6jed\n",
      "Procesando https://trabajo.gallito.com.uy/anuncio/promo-vendedor-de-calle-zj9zz\n",
      "Procesando https://trabajo.gallito.com.uy/anuncio/vendedor-telefonico-46vhh\n"
     ]
    },
    {
     "data": {
      "text/html": [
       "<div>\n",
       "<style scoped>\n",
       "    .dataframe tbody tr th:only-of-type {\n",
       "        vertical-align: middle;\n",
       "    }\n",
       "\n",
       "    .dataframe tbody tr th {\n",
       "        vertical-align: top;\n",
       "    }\n",
       "\n",
       "    .dataframe thead th {\n",
       "        text-align: right;\n",
       "    }\n",
       "</style>\n",
       "<table border=\"1\" class=\"dataframe\">\n",
       "  <thead>\n",
       "    <tr style=\"text-align: right;\">\n",
       "      <th></th>\n",
       "      <th>Descripción</th>\n",
       "      <th>Empresa</th>\n",
       "      <th>Cantidad de ofertas</th>\n",
       "      <th>Fecha</th>\n",
       "      <th>Responsabilidades</th>\n",
       "      <th>Funciones</th>\n",
       "      <th>Requisitos</th>\n",
       "    </tr>\n",
       "  </thead>\n",
       "  <tbody>\n",
       "    <tr>\n",
       "      <th>0</th>\n",
       "      <td>DISTRIBUIDORES</td>\n",
       "      <td>GRANJA POCHA S.A SOLICITA</td>\n",
       "      <td>1 ofertas laborales</td>\n",
       "      <td>Hace 4 horas</td>\n",
       "      <td>BUSCAMOS  DISTRIBUIDORES  DE  LECHE FRESCA  PA...</td>\n",
       "      <td></td>\n",
       "      <td>NaN</td>\n",
       "    </tr>\n",
       "    <tr>\n",
       "      <th>1</th>\n",
       "      <td>AUX DE MARKETING DIGITAL Y DISEÑO GRAFICO</td>\n",
       "      <td>Importante empresa</td>\n",
       "      <td>10 ofertas laborales</td>\n",
       "      <td>Hace 5 horas</td>\n",
       "      <td>Sus principales tareas serán concebir y realiz...</td>\n",
       "      <td>La búsqueda se orienta a profesionales de dise...</td>\n",
       "      <td>Experiencia de 1 año en el área de Arte - dise...</td>\n",
       "    </tr>\n",
       "    <tr>\n",
       "      <th>2</th>\n",
       "      <td>AUXILIAR DE DEPOSITO Y SALON</td>\n",
       "      <td></td>\n",
       "      <td>2 ofertas laborales</td>\n",
       "      <td>Hace 7 horas</td>\n",
       "      <td>STOCK Y FECHAS DE VENCIMIENTOS, ETC.\\r\\nDE LUN...</td>\n",
       "      <td>MANTENIMIENTO DEL ORDEN Y LIMPIEZA DE SALON Y ...</td>\n",
       "      <td>NaN</td>\n",
       "    </tr>\n",
       "    <tr>\n",
       "      <th>3</th>\n",
       "      <td>CHOFER PARA TAXI</td>\n",
       "      <td>empresa</td>\n",
       "      <td>2 ofertas laborales</td>\n",
       "      <td>Hace 9 horas</td>\n",
       "      <td>Cuidar el auto, tener buen trato con sus compa...</td>\n",
       "      <td>Cubrir 3 días libres de dos compañeros.\\r\\nPre...</td>\n",
       "      <td>NaN</td>\n",
       "    </tr>\n",
       "    <tr>\n",
       "      <th>4</th>\n",
       "      <td>CARNICERO CORTADOR - ZONA PLACIDO ELLAURI</td>\n",
       "      <td></td>\n",
       "      <td>1 ofertas laborales</td>\n",
       "      <td>Hace 11 horas</td>\n",
       "      <td>ATENCION AL PUBLICO,  CONOCIMIENTO DE CORTES, ...</td>\n",
       "      <td>ATENCION AL PUBLICO,  CONOCIMIENTO DE CORTES, ...</td>\n",
       "      <td>Experiencia de 3 años en el área de Ventas - c...</td>\n",
       "    </tr>\n",
       "  </tbody>\n",
       "</table>\n",
       "</div>"
      ],
      "text/plain": [
       "                                 Descripción                    Empresa  \\\n",
       "0                             DISTRIBUIDORES  GRANJA POCHA S.A SOLICITA   \n",
       "1  AUX DE MARKETING DIGITAL Y DISEÑO GRAFICO         Importante empresa   \n",
       "2               AUXILIAR DE DEPOSITO Y SALON                              \n",
       "3                           CHOFER PARA TAXI                    empresa   \n",
       "4  CARNICERO CORTADOR - ZONA PLACIDO ELLAURI                              \n",
       "\n",
       "    Cantidad de ofertas          Fecha  \\\n",
       "0   1 ofertas laborales   Hace 4 horas   \n",
       "1  10 ofertas laborales   Hace 5 horas   \n",
       "2   2 ofertas laborales   Hace 7 horas   \n",
       "3   2 ofertas laborales   Hace 9 horas   \n",
       "4   1 ofertas laborales  Hace 11 horas   \n",
       "\n",
       "                                   Responsabilidades  \\\n",
       "0  BUSCAMOS  DISTRIBUIDORES  DE  LECHE FRESCA  PA...   \n",
       "1  Sus principales tareas serán concebir y realiz...   \n",
       "2  STOCK Y FECHAS DE VENCIMIENTOS, ETC.\\r\\nDE LUN...   \n",
       "3  Cuidar el auto, tener buen trato con sus compa...   \n",
       "4  ATENCION AL PUBLICO,  CONOCIMIENTO DE CORTES, ...   \n",
       "\n",
       "                                           Funciones  \\\n",
       "0                                                      \n",
       "1  La búsqueda se orienta a profesionales de dise...   \n",
       "2  MANTENIMIENTO DEL ORDEN Y LIMPIEZA DE SALON Y ...   \n",
       "3  Cubrir 3 días libres de dos compañeros.\\r\\nPre...   \n",
       "4  ATENCION AL PUBLICO,  CONOCIMIENTO DE CORTES, ...   \n",
       "\n",
       "                                          Requisitos  \n",
       "0                                                NaN  \n",
       "1  Experiencia de 1 año en el área de Arte - dise...  \n",
       "2                                                NaN  \n",
       "3                                                NaN  \n",
       "4  Experiencia de 3 años en el área de Ventas - c...  "
      ]
     },
     "execution_count": 4,
     "metadata": {},
     "output_type": "execute_result"
    }
   ],
   "source": [
    "puestos = []\n",
    "with requests.Session() as s:\n",
    "    for url in urls:\n",
    "        full_url = f\"https://trabajo.gallito.com.uy{url}\"\n",
    "        print(f\"Procesando {full_url}\")\n",
    "        r = s.get(full_url)\n",
    "        soup = BeautifulSoup(r.content)\n",
    "        title = soup.find(\"div\", class_=\"title-puesto\").contents[0].text.strip()\n",
    "        subtitle = soup.find(\"div\", class_=\"subtitle-puesto\").text.strip()\n",
    "        since = soup.find(\"span\", class_=\"time-text\").text.strip()\n",
    "        cantidad = soup.find(\"div\", class_=\"span-ofertas\").text.strip()\n",
    "        titulo_textos = soup.find_all(\"div\", class_=\"cuadro-aviso-title\")\n",
    "        textos = soup.find_all(\"div\", class_=\"cuadro-aviso-text\")\n",
    "        textos = {k.text.strip(): v.text.strip() for k, v in zip(titulo_textos, textos)}\n",
    "        textos.pop(\"Avisos similares\", None)\n",
    "        data_puesto = {\"Descripción\": title, \"Empresa\": subtitle, \"Cantidad de ofertas\": cantidad, \"Fecha\": since}\n",
    "        data_puesto.update(textos)\n",
    "        puestos.append(data_puesto)\n",
    "\n",
    "df = pd.DataFrame(puestos)\n",
    "df.head()"
   ]
  },
  {
   "cell_type": "markdown",
   "metadata": {
    "slideshow": {
     "slide_type": "slide"
    }
   },
   "source": [
    "Algunos comentarios:\n",
    "\n",
    "1. Usamos una ``Session`` de ``requests`` para agilizar el proceso dado que estamos entrando a varias páginas del mismo sitio.\n",
    "2. Para el título tenemos que revisar los ``contents``, porque es un h2 dentro de un div. No podemos buscar directamente los h2 porque hay otros títulos de ese tipo en la página.\n",
    "3. El subtítulo (que tiene la información de la empresa), la cantidad de ofertas y el momento de publicación no tienen dificultades, simplemente accedemos a su ``text`` y le aplicamos el método ``strip()`` para que saque todos los espacios extra.\n",
    "4. Cada puesto tiene distintos boxes con información que no están presentes en todos los avisos. Sin embargo, siempre tienen los mismos tags. Por eso  hacemos un ``find_all()`` para esos tags y luego lo procesamos con una dict comprehension.\n",
    "5. Algunos avisos tienen un box de \"Avisos similares\" que no nos interesa por ahora, así que lo eliminamos del diccionario de textos.\n",
    "6. Construimos un nuevo diccionario con el título, subtítulo, cantidad de ofertas y momento de publicación.\n",
    "7. Actualizamos este diccionario con la información de los textos.\n",
    "8. Agregamos el diccionario completo a la lista de ``puestos``"
   ]
  },
  {
   "cell_type": "code",
   "execution_count": null,
   "metadata": {
    "slideshow": {
     "slide_type": "skip"
    }
   },
   "outputs": [],
   "source": []
  }
 ],
 "metadata": {
  "celltoolbar": "Slideshow",
  "kernelspec": {
   "display_name": "Python 3",
   "language": "python",
   "name": "python3"
  },
  "language_info": {
   "codemirror_mode": {
    "name": "ipython",
    "version": 3
   },
   "file_extension": ".py",
   "mimetype": "text/x-python",
   "name": "python",
   "nbconvert_exporter": "python",
   "pygments_lexer": "ipython3",
   "version": "3.7.9"
  }
 },
 "nbformat": 4,
 "nbformat_minor": 2
}
