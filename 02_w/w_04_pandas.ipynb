{
 "metadata": {
  "language_info": {
   "codemirror_mode": {
    "name": "ipython",
    "version": 3
   },
   "file_extension": ".py",
   "mimetype": "text/x-python",
   "name": "python",
   "nbconvert_exporter": "python",
   "pygments_lexer": "ipython3",
   "version": "3.7.9"
  },
  "orig_nbformat": 2,
  "kernelspec": {
   "name": "python379jvsc74a57bd062b65a3e32fd75c6613f438e3e64606454bf9518010d2b50fe61db1c37149f34",
   "display_name": "Python 3.7.9 64-bit ('Scrapping-CfF0pIyJ': pipenv)"
  }
 },
 "nbformat": 4,
 "nbformat_minor": 2,
 "cells": [
  {
   "source": [
    "w_04 | Web scraping con Pandas\n",
    "===="
   ],
   "cell_type": "markdown",
   "metadata": {}
  },
  {
   "source": [
    "A veces Pandas es suficiente. Esto depende de que el HTML defina correctamente las tablas que necesitamos, y que el proceso de llevar los datos a la forma que necesitamos no sea demasiado complejo.\n",
    "\n",
    "Hagamos una prueba. Cabe destacar que estoy definiendo el motor para procesar el HTML porque no tengo instalado ``lxml``, que es el primero que Pandas intenta usar si no se especifica."
   ],
   "cell_type": "markdown",
   "metadata": {}
  },
  {
   "cell_type": "code",
   "execution_count": 1,
   "metadata": {},
   "outputs": [
    {
     "output_type": "stream",
     "name": "stdout",
     "text": [
      "Cantidad de tablas: 12\n"
     ]
    }
   ],
   "source": [
    "import pandas as pd\n",
    "\n",
    "url = \"https://es.tradingeconomics.com/uruguay/indicators\"\n",
    "\n",
    "tables = pd.read_html(url, flavor=\"bs4\")\n",
    "print(f\"Cantidad de tablas: {len(tables)}\")"
   ]
  },
  {
   "source": [
    "Pandas encuentra 12 tablas porque a pesar de que están ubicadas en distintas secciones, en el HTML está todo en el mismo lugar. Revisemos una al azar para ver cómo se procesó por defecto."
   ],
   "cell_type": "markdown",
   "metadata": {}
  },
  {
   "cell_type": "code",
   "execution_count": 2,
   "metadata": {},
   "outputs": [
    {
     "output_type": "stream",
     "name": "stdout",
     "text": [
      "<class 'pandas.core.frame.DataFrame'>\nRangeIndex: 15 entries, 0 to 14\nData columns (total 7 columns):\n #   Column          Non-Null Count  Dtype  \n---  ------          --------------  -----  \n 0   Visión general  15 non-null     object \n 1   Último          15 non-null     float64\n 2   Referencia      15 non-null     object \n 3   Anterior        15 non-null     float64\n 4   Rango           15 non-null     object \n 5   Frecuencia      15 non-null     object \n 6   Unnamed: 6      0 non-null      float64\ndtypes: float64(3), object(4)\nmemory usage: 968.0+ bytes\n"
     ]
    },
    {
     "output_type": "execute_result",
     "data": {
      "text/plain": [
       "                         Visión general  Último Referencia  Anterior  \\\n",
       "0  PIB - Tasa de crecimiento trimestral    7.80    2020-09    -10.40   \n",
       "1       PIB - Tasa de crecimiento anual   -2.90    2020-12     -5.80   \n",
       "2                     Tasa De Desempleo    9.70    2021-03     11.10   \n",
       "3                     Tasa De Inflación    6.76    2021-04      8.34   \n",
       "4                       Tasa De Interés    4.50    2021-05      4.50   \n",
       "\n",
       "          Rango  Frecuencia  Unnamed: 6  \n",
       "0   -10.4 : 9.6  Trimestral         NaN  \n",
       "1  -12.5 : 10.5  Trimestral         NaN  \n",
       "2    5.4 : 13.4     Mensual         NaN  \n",
       "3   -7.12 : 183     Mensual         NaN  \n",
       "4      4.5 : 10      Diario         NaN  "
      ],
      "text/html": "<div>\n<style scoped>\n    .dataframe tbody tr th:only-of-type {\n        vertical-align: middle;\n    }\n\n    .dataframe tbody tr th {\n        vertical-align: top;\n    }\n\n    .dataframe thead th {\n        text-align: right;\n    }\n</style>\n<table border=\"1\" class=\"dataframe\">\n  <thead>\n    <tr style=\"text-align: right;\">\n      <th></th>\n      <th>Visión general</th>\n      <th>Último</th>\n      <th>Referencia</th>\n      <th>Anterior</th>\n      <th>Rango</th>\n      <th>Frecuencia</th>\n      <th>Unnamed: 6</th>\n    </tr>\n  </thead>\n  <tbody>\n    <tr>\n      <th>0</th>\n      <td>PIB - Tasa de crecimiento trimestral</td>\n      <td>7.80</td>\n      <td>2020-09</td>\n      <td>-10.40</td>\n      <td>-10.4 : 9.6</td>\n      <td>Trimestral</td>\n      <td>NaN</td>\n    </tr>\n    <tr>\n      <th>1</th>\n      <td>PIB - Tasa de crecimiento anual</td>\n      <td>-2.90</td>\n      <td>2020-12</td>\n      <td>-5.80</td>\n      <td>-12.5 : 10.5</td>\n      <td>Trimestral</td>\n      <td>NaN</td>\n    </tr>\n    <tr>\n      <th>2</th>\n      <td>Tasa De Desempleo</td>\n      <td>9.70</td>\n      <td>2021-03</td>\n      <td>11.10</td>\n      <td>5.4 : 13.4</td>\n      <td>Mensual</td>\n      <td>NaN</td>\n    </tr>\n    <tr>\n      <th>3</th>\n      <td>Tasa De Inflación</td>\n      <td>6.76</td>\n      <td>2021-04</td>\n      <td>8.34</td>\n      <td>-7.12 : 183</td>\n      <td>Mensual</td>\n      <td>NaN</td>\n    </tr>\n    <tr>\n      <th>4</th>\n      <td>Tasa De Interés</td>\n      <td>4.50</td>\n      <td>2021-05</td>\n      <td>4.50</td>\n      <td>4.5 : 10</td>\n      <td>Diario</td>\n      <td>NaN</td>\n    </tr>\n  </tbody>\n</table>\n</div>"
     },
     "metadata": {},
     "execution_count": 2
    }
   ],
   "source": [
    "tables[1].info()\n",
    "tables[1].head()"
   ]
  },
  {
   "source": [
    "Aunque sobre una columna al final y que las fechas no están formateadas, el resultado es más que aceptable. Podemos revisar otra al azar."
   ],
   "cell_type": "markdown",
   "metadata": {}
  },
  {
   "source": [
    "tables[6].info()\n",
    "tables[6].head()"
   ],
   "cell_type": "code",
   "metadata": {},
   "execution_count": null,
   "outputs": []
  },
  {
   "source": [
    "Puede no interesarnos tener todas las tablas y para eso ``read_html()`` permite filtrar."
   ],
   "cell_type": "markdown",
   "metadata": {}
  },
  {
   "cell_type": "code",
   "execution_count": 3,
   "metadata": {},
   "outputs": [
    {
     "output_type": "stream",
     "name": "stdout",
     "text": [
      "Cantidad de tablas: 1\n"
     ]
    },
    {
     "output_type": "execute_result",
     "data": {
      "text/plain": [
       "                     Salud  Último Referencia  Anterior       Rango  \\\n",
       "0     Casos de coronavirus  282198    2021-05    280372  0 : 282198   \n",
       "1  Muertes por coronavirus    4213    2021-05      4176    0 : 4213   \n",
       "2   Coronavirus recuperado  242661    2021-05    239309  0 : 242661   \n",
       "\n",
       "  Frecuencia  Unnamed: 6  \n",
       "0     Diario         NaN  \n",
       "1     Diario         NaN  \n",
       "2     Diario         NaN  "
      ],
      "text/html": "<div>\n<style scoped>\n    .dataframe tbody tr th:only-of-type {\n        vertical-align: middle;\n    }\n\n    .dataframe tbody tr th {\n        vertical-align: top;\n    }\n\n    .dataframe thead th {\n        text-align: right;\n    }\n</style>\n<table border=\"1\" class=\"dataframe\">\n  <thead>\n    <tr style=\"text-align: right;\">\n      <th></th>\n      <th>Salud</th>\n      <th>Último</th>\n      <th>Referencia</th>\n      <th>Anterior</th>\n      <th>Rango</th>\n      <th>Frecuencia</th>\n      <th>Unnamed: 6</th>\n    </tr>\n  </thead>\n  <tbody>\n    <tr>\n      <th>0</th>\n      <td>Casos de coronavirus</td>\n      <td>282198</td>\n      <td>2021-05</td>\n      <td>280372</td>\n      <td>0 : 282198</td>\n      <td>Diario</td>\n      <td>NaN</td>\n    </tr>\n    <tr>\n      <th>1</th>\n      <td>Muertes por coronavirus</td>\n      <td>4213</td>\n      <td>2021-05</td>\n      <td>4176</td>\n      <td>0 : 4213</td>\n      <td>Diario</td>\n      <td>NaN</td>\n    </tr>\n    <tr>\n      <th>2</th>\n      <td>Coronavirus recuperado</td>\n      <td>242661</td>\n      <td>2021-05</td>\n      <td>239309</td>\n      <td>0 : 242661</td>\n      <td>Diario</td>\n      <td>NaN</td>\n    </tr>\n  </tbody>\n</table>\n</div>"
     },
     "metadata": {},
     "execution_count": 3
    }
   ],
   "source": [
    "tabla_salud = pd.read_html(url, match=\"Salud\", flavor=\"bs4\")\n",
    "print(f\"Cantidad de tablas: {len(tabla_salud)}\")\n",
    "tabla_salud[0]\n",
    "  "
   ]
  },
  {
   "cell_type": "code",
   "execution_count": null,
   "metadata": {},
   "outputs": [],
   "source": []
  }
 ]
}